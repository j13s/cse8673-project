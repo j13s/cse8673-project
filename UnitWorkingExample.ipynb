{
 "cells": [
  {
   "cell_type": "code",
   "execution_count": 1,
   "metadata": {},
   "outputs": [],
   "source": [
    "from glob import glob\n",
    "import numpy as np\n",
    "import tensorflow as tf"
   ]
  },
  {
   "cell_type": "code",
   "execution_count": 14,
   "metadata": {},
   "outputs": [
    {
     "name": "stdout",
     "output_type": "stream",
     "text": [
      "ludoHistory/ludo_history.33.npy\n"
     ]
    }
   ],
   "source": [
    "histories = list()\n",
    "for i in glob(\"ludoHistory/*.npy\"):\n",
    "    print(i)\n",
    "    x = np.load(i,allow_pickle=True)\n",
    "    break"
   ]
  },
  {
   "cell_type": "code",
   "execution_count": 15,
   "metadata": {},
   "outputs": [],
   "source": [
    "model = tf.keras.models.Sequential([\n",
    "  tf.keras.layers.Flatten(input_shape=(16,)),\n",
    "  tf.keras.layers.Dense(32, activation='relu'),\n",
    "  tf.keras.layers.Dropout(0.2),\n",
    "  tf.keras.layers.Dense(1)\n",
    "])\n",
    "loss_fn = tf.keras.losses.MeanSquaredError()\n",
    "model.compile(optimizer='adam',\n",
    "              loss=loss_fn,\n",
    "              metrics=['accuracy'])"
   ]
  },
  {
   "cell_type": "code",
   "execution_count": 16,
   "metadata": {},
   "outputs": [],
   "source": [
    "def netInput(states):\n",
    "    netInput = np.array((np.zeros((1,16))))\n",
    "    for state in states:\n",
    "        temp = state[0][0]\n",
    "        for j in state[0][1:]:\n",
    "            temp = np.concatenate((temp,j), axis=0)\n",
    "        netInput = np.vstack((netInput,temp))\n",
    "    return netInput"
   ]
  },
  {
   "cell_type": "code",
   "execution_count": 17,
   "metadata": {},
   "outputs": [],
   "source": [
    "netInputs = netInput(x)"
   ]
  },
  {
   "cell_type": "code",
   "execution_count": 18,
   "metadata": {},
   "outputs": [
    {
     "name": "stdout",
     "output_type": "stream",
     "text": [
      "Train on 5 samples\n",
      "5/5 [==============================] - 0s 39ms/sample - loss: 477.3787 - accuracy: 0.0000e+00\n",
      "Train on 5 samples\n",
      "5/5 [==============================] - 0s 1ms/sample - loss: 531.4277 - accuracy: 0.0000e+00\n",
      "Train on 5 samples\n",
      "5/5 [==============================] - 0s 1ms/sample - loss: 177.2697 - accuracy: 0.0000e+00\n",
      "Train on 5 samples\n",
      "5/5 [==============================] - 0s 1ms/sample - loss: 500.0390 - accuracy: 0.0000e+00\n",
      "Train on 5 samples\n",
      "5/5 [==============================] - 0s 1ms/sample - loss: 144.6469 - accuracy: 0.0000e+00\n",
      "Train on 5 samples\n",
      "5/5 [==============================] - 0s 1ms/sample - loss: 132.5533 - accuracy: 0.0000e+00\n",
      "Train on 5 samples\n",
      "5/5 [==============================] - 0s 1ms/sample - loss: 441.2822 - accuracy: 0.0000e+00\n",
      "Train on 5 samples\n",
      "5/5 [==============================] - 0s 1ms/sample - loss: 538.4256 - accuracy: 0.0000e+00\n",
      "Train on 5 samples\n",
      "5/5 [==============================] - 0s 1ms/sample - loss: 584.7548 - accuracy: 0.0000e+00\n",
      "Train on 5 samples\n",
      "5/5 [==============================] - 0s 1ms/sample - loss: 24.3256 - accuracy: 0.0000e+00\n"
     ]
    }
   ],
   "source": [
    "target = model\n",
    "for _ in range(10):\n",
    "    randIdx = np.random.randint(netInputs.shape[0],size=5)\n",
    "    inputs = netInputs[randIdx]\n",
    "    y = target.predict(inputs)\n",
    "    model.fit(inputs,y,epochs=1)\n",
    "    target = model"
   ]
  },
  {
   "cell_type": "code",
   "execution_count": null,
   "metadata": {},
   "outputs": [],
   "source": []
  }
 ],
 "metadata": {
  "kernelspec": {
   "display_name": "Python 3",
   "language": "python",
   "name": "python3"
  },
  "language_info": {
   "codemirror_mode": {
    "name": "ipython",
    "version": 3
   },
   "file_extension": ".py",
   "mimetype": "text/x-python",
   "name": "python",
   "nbconvert_exporter": "python",
   "pygments_lexer": "ipython3",
   "version": "3.7.5"
  }
 },
 "nbformat": 4,
 "nbformat_minor": 2
}
