{
 "cells": [
  {
   "cell_type": "code",
   "execution_count": null,
   "metadata": {},
   "outputs": [],
   "source": [
    "!python generate_ludo_gameplay_sequence.py"
   ]
  },
  {
   "cell_type": "code",
   "execution_count": null,
   "metadata": {},
   "outputs": [],
   "source": [
    "from glob import glob\n",
    "import numpy as np\n",
    "import tensorflow as tf"
   ]
  },
  {
   "cell_type": "code",
   "execution_count": null,
   "metadata": {},
   "outputs": [],
   "source": [
    "for i in glob(\"ludoHistory/*.npy\"):\n",
    "    game = np.load(i,allow_pickle=True)\n",
    "    break"
   ]
  },
  {
   "cell_type": "code",
   "execution_count": null,
   "metadata": {},
   "outputs": [],
   "source": [
    "#defining the model\n",
    "model = tf.keras.models.Sequential([\n",
    "  tf.keras.layers.Flatten(input_shape=(16,)),\n",
    "  tf.keras.layers.Dense(32, activation='relu'),\n",
    "  tf.keras.layers.Dropout(0.2),\n",
    "  tf.keras.layers.Dense(1)\n",
    "])\n",
    "loss_fn = tf.keras.losses.MeanSquaredError()\n",
    "model.compile(optimizer='adam',\n",
    "              loss=loss_fn,\n",
    "              metrics=['accuracy'])"
   ]
  },
  {
   "cell_type": "code",
   "execution_count": null,
   "metadata": {},
   "outputs": [],
   "source": [
    "#converting the input from 4X4 to 1X16\n",
    "#Right now it is only taking the position of the pawns\n",
    "#later we will update this to take current dice value\n",
    "def netInput(states):\n",
    "    netInput = np.array((np.zeros((1,16))))\n",
    "    for state in states:\n",
    "        temp = state[0][0]\n",
    "        for j in state[0][1:]:\n",
    "            temp = np.concatenate((temp,j), axis=0)\n",
    "        netInput = np.vstack((netInput,temp))\n",
    "    return netInput"
   ]
  },
  {
   "cell_type": "code",
   "execution_count": null,
   "metadata": {},
   "outputs": [],
   "source": [
    "netInputs = netInput(game)"
   ]
  },
  {
   "cell_type": "code",
   "execution_count": null,
   "metadata": {},
   "outputs": [],
   "source": [
    "target = model\n",
    "for _ in range(10):\n",
    "    #selecting n(5) random inputs\n",
    "    randIdx = np.random.randint(netInputs.shape[0],size=5)\n",
    "    inputs = netInputs[randIdx]\n",
    "    #predicting the input with the target netowrk\n",
    "    #this values is not right have to update this for final model\n",
    "    y = target.predict(inputs)\n",
    "    #training the model \n",
    "    model.fit(inputs,y,epochs=1)\n",
    "    #updating the target network after training on n samples\n",
    "    target = model"
   ]
  },
  {
   "cell_type": "code",
   "execution_count": null,
   "metadata": {},
   "outputs": [],
   "source": [
    "import numpy as np"
   ]
  },
  {
   "cell_type": "code",
   "execution_count": null,
   "metadata": {},
   "outputs": [],
   "source": [
    "x = np.array([[1,2,3],[0,1,0],[0,0,1]])\n",
    "\n",
    "y = x[np.all(x == 0, axis=1)]"
   ]
  },
  {
   "cell_type": "code",
   "execution_count": null,
   "metadata": {},
   "outputs": [],
   "source": [
    "x = [1,2,3]"
   ]
  },
  {
   "cell_type": "code",
   "execution_count": null,
   "metadata": {},
   "outputs": [],
   "source": [
    "y= x.reverse()"
   ]
  },
  {
   "cell_type": "code",
   "execution_count": 28,
   "metadata": {},
   "outputs": [],
   "source": [
    "import run_ludo"
   ]
  },
  {
   "cell_type": "code",
   "execution_count": 3,
   "metadata": {},
   "outputs": [
    {
     "name": "stderr",
     "output_type": "stream",
     "text": [
      "/home/kartik/.conda/envs/ve2/lib/python3.6/site-packages/tensorflow/python/framework/dtypes.py:523: FutureWarning: Passing (type, 1) or '1type' as a synonym of type is deprecated; in a future version of numpy, it will be understood as (type, (1,)) / '(1,)type'.\n",
      "  _np_qint8 = np.dtype([(\"qint8\", np.int8, 1)])\n",
      "/home/kartik/.conda/envs/ve2/lib/python3.6/site-packages/tensorflow/python/framework/dtypes.py:524: FutureWarning: Passing (type, 1) or '1type' as a synonym of type is deprecated; in a future version of numpy, it will be understood as (type, (1,)) / '(1,)type'.\n",
      "  _np_quint8 = np.dtype([(\"quint8\", np.uint8, 1)])\n",
      "/home/kartik/.conda/envs/ve2/lib/python3.6/site-packages/tensorflow/python/framework/dtypes.py:525: FutureWarning: Passing (type, 1) or '1type' as a synonym of type is deprecated; in a future version of numpy, it will be understood as (type, (1,)) / '(1,)type'.\n",
      "  _np_qint16 = np.dtype([(\"qint16\", np.int16, 1)])\n",
      "/home/kartik/.conda/envs/ve2/lib/python3.6/site-packages/tensorflow/python/framework/dtypes.py:526: FutureWarning: Passing (type, 1) or '1type' as a synonym of type is deprecated; in a future version of numpy, it will be understood as (type, (1,)) / '(1,)type'.\n",
      "  _np_quint16 = np.dtype([(\"quint16\", np.uint16, 1)])\n",
      "/home/kartik/.conda/envs/ve2/lib/python3.6/site-packages/tensorflow/python/framework/dtypes.py:527: FutureWarning: Passing (type, 1) or '1type' as a synonym of type is deprecated; in a future version of numpy, it will be understood as (type, (1,)) / '(1,)type'.\n",
      "  _np_qint32 = np.dtype([(\"qint32\", np.int32, 1)])\n",
      "/home/kartik/.conda/envs/ve2/lib/python3.6/site-packages/tensorflow/python/framework/dtypes.py:532: FutureWarning: Passing (type, 1) or '1type' as a synonym of type is deprecated; in a future version of numpy, it will be understood as (type, (1,)) / '(1,)type'.\n",
      "  np_resource = np.dtype([(\"resource\", np.ubyte, 1)])\n"
     ]
    }
   ],
   "source": [
    "import winRatePlot as plot\n",
    "from collections import defaultdict\n",
    "import numpy as np\n",
    "from matplotlib import pyplot as plt"
   ]
  },
  {
   "cell_type": "code",
   "execution_count": 4,
   "metadata": {},
   "outputs": [],
   "source": [
    "def getEpisodeNum(modelNum):\n",
    "    i = len(modelName)-1\n",
    "    while modelName[i].isdigit():\n",
    "        i -= 1\n",
    "    return modelName[i+1:]"
   ]
  },
  {
   "cell_type": "code",
   "execution_count": 5,
   "metadata": {
    "scrolled": true
   },
   "outputs": [
    {
     "name": "stdout",
     "output_type": "stream",
     "text": [
      "-----------same--------------\n",
      "output/weights/ludo/same/ludo-v2.ckpt50000 ---\n",
      "WARNING:tensorflow:From /home/kartik/Project/cse8673_project/policy_gradient.py:181: softmax_cross_entropy_with_logits (from tensorflow.python.ops.nn_ops) is deprecated and will be removed in a future version.\n",
      "Instructions for updating:\n",
      "\n",
      "Future major versions of TensorFlow will allow gradients to flow\n",
      "into the labels input on backprop by default.\n",
      "\n",
      "See @{tf.nn.softmax_cross_entropy_with_logits_v2}.\n",
      "\n",
      "INFO:tensorflow:Restoring parameters from output/weights/ludo/same/ludo-v2.ckpt50000\n",
      "output/weights/ludo/same/ludo-v2.ckpt1000 ---\n",
      "INFO:tensorflow:Restoring parameters from output/weights/ludo/same/ludo-v2.ckpt1000\n",
      "output/weights/ludo/same/ludo-v2.ckpt2000 ---\n",
      "INFO:tensorflow:Restoring parameters from output/weights/ludo/same/ludo-v2.ckpt2000\n",
      "output/weights/ludo/same/ludo-v2.ckpt3000 ---\n",
      "INFO:tensorflow:Restoring parameters from output/weights/ludo/same/ludo-v2.ckpt3000\n",
      "output/weights/ludo/same/ludo-v2.ckpt4000 ---\n",
      "INFO:tensorflow:Restoring parameters from output/weights/ludo/same/ludo-v2.ckpt4000\n",
      "output/weights/ludo/same/ludo-v2.ckpt5000 ---\n",
      "INFO:tensorflow:Restoring parameters from output/weights/ludo/same/ludo-v2.ckpt5000\n",
      "output/weights/ludo/same/ludo-v2.ckpt6000 ---\n",
      "INFO:tensorflow:Restoring parameters from output/weights/ludo/same/ludo-v2.ckpt6000\n",
      "output/weights/ludo/same/ludo-v2.ckpt7000 ---\n",
      "INFO:tensorflow:Restoring parameters from output/weights/ludo/same/ludo-v2.ckpt7000\n",
      "output/weights/ludo/same/ludo-v2.ckpt8000 ---\n",
      "INFO:tensorflow:Restoring parameters from output/weights/ludo/same/ludo-v2.ckpt8000\n",
      "output/weights/ludo/same/ludo-v2.ckpt9000 ---\n",
      "INFO:tensorflow:Restoring parameters from output/weights/ludo/same/ludo-v2.ckpt9000\n",
      "output/weights/ludo/same/ludo-v2.ckpt10000 ---\n",
      "INFO:tensorflow:Restoring parameters from output/weights/ludo/same/ludo-v2.ckpt10000\n",
      "output/weights/ludo/same/ludo-v2.ckpt11000 ---\n",
      "INFO:tensorflow:Restoring parameters from output/weights/ludo/same/ludo-v2.ckpt11000\n",
      "output/weights/ludo/same/ludo-v2.ckpt12000 ---\n",
      "INFO:tensorflow:Restoring parameters from output/weights/ludo/same/ludo-v2.ckpt12000\n",
      "output/weights/ludo/same/ludo-v2.ckpt13000 ---\n",
      "INFO:tensorflow:Restoring parameters from output/weights/ludo/same/ludo-v2.ckpt13000\n",
      "output/weights/ludo/same/ludo-v2.ckpt14000 ---\n",
      "INFO:tensorflow:Restoring parameters from output/weights/ludo/same/ludo-v2.ckpt14000\n",
      "output/weights/ludo/same/ludo-v2.ckpt15000 ---\n",
      "INFO:tensorflow:Restoring parameters from output/weights/ludo/same/ludo-v2.ckpt15000\n",
      "output/weights/ludo/same/ludo-v2.ckpt16000 ---\n",
      "INFO:tensorflow:Restoring parameters from output/weights/ludo/same/ludo-v2.ckpt16000\n",
      "output/weights/ludo/same/ludo-v2.ckpt17000 ---\n",
      "INFO:tensorflow:Restoring parameters from output/weights/ludo/same/ludo-v2.ckpt17000\n",
      "output/weights/ludo/same/ludo-v2.ckpt18000 ---\n",
      "INFO:tensorflow:Restoring parameters from output/weights/ludo/same/ludo-v2.ckpt18000\n",
      "output/weights/ludo/same/ludo-v2.ckpt19000 ---\n",
      "INFO:tensorflow:Restoring parameters from output/weights/ludo/same/ludo-v2.ckpt19000\n",
      "output/weights/ludo/same/ludo-v2.ckpt20000 ---\n",
      "INFO:tensorflow:Restoring parameters from output/weights/ludo/same/ludo-v2.ckpt20000\n",
      "output/weights/ludo/same/ludo-v2.ckpt21000 ---\n",
      "INFO:tensorflow:Restoring parameters from output/weights/ludo/same/ludo-v2.ckpt21000\n",
      "output/weights/ludo/same/ludo-v2.ckpt22000 ---\n",
      "INFO:tensorflow:Restoring parameters from output/weights/ludo/same/ludo-v2.ckpt22000\n",
      "output/weights/ludo/same/ludo-v2.ckpt23000 ---\n",
      "INFO:tensorflow:Restoring parameters from output/weights/ludo/same/ludo-v2.ckpt23000\n",
      "output/weights/ludo/same/ludo-v2.ckpt24000 ---\n",
      "INFO:tensorflow:Restoring parameters from output/weights/ludo/same/ludo-v2.ckpt24000\n",
      "output/weights/ludo/same/ludo-v2.ckpt25000 ---\n",
      "INFO:tensorflow:Restoring parameters from output/weights/ludo/same/ludo-v2.ckpt25000\n",
      "output/weights/ludo/same/ludo-v2.ckpt26000 ---\n",
      "INFO:tensorflow:Restoring parameters from output/weights/ludo/same/ludo-v2.ckpt26000\n",
      "output/weights/ludo/same/ludo-v2.ckpt27000 ---\n",
      "INFO:tensorflow:Restoring parameters from output/weights/ludo/same/ludo-v2.ckpt27000\n",
      "output/weights/ludo/same/ludo-v2.ckpt28000 ---\n",
      "INFO:tensorflow:Restoring parameters from output/weights/ludo/same/ludo-v2.ckpt28000\n",
      "output/weights/ludo/same/ludo-v2.ckpt29000 ---\n",
      "INFO:tensorflow:Restoring parameters from output/weights/ludo/same/ludo-v2.ckpt29000\n",
      "output/weights/ludo/same/ludo-v2.ckpt30000 ---\n",
      "INFO:tensorflow:Restoring parameters from output/weights/ludo/same/ludo-v2.ckpt30000\n",
      "output/weights/ludo/same/ludo-v2.ckpt31000 ---\n",
      "INFO:tensorflow:Restoring parameters from output/weights/ludo/same/ludo-v2.ckpt31000\n",
      "output/weights/ludo/same/ludo-v2.ckpt32000 ---\n",
      "INFO:tensorflow:Restoring parameters from output/weights/ludo/same/ludo-v2.ckpt32000\n",
      "output/weights/ludo/same/ludo-v2.ckpt33000 ---\n",
      "INFO:tensorflow:Restoring parameters from output/weights/ludo/same/ludo-v2.ckpt33000\n",
      "output/weights/ludo/same/ludo-v2.ckpt34000 ---\n",
      "INFO:tensorflow:Restoring parameters from output/weights/ludo/same/ludo-v2.ckpt34000\n",
      "output/weights/ludo/same/ludo-v2.ckpt35000 ---\n",
      "INFO:tensorflow:Restoring parameters from output/weights/ludo/same/ludo-v2.ckpt35000\n",
      "output/weights/ludo/same/ludo-v2.ckpt36000 ---\n",
      "INFO:tensorflow:Restoring parameters from output/weights/ludo/same/ludo-v2.ckpt36000\n",
      "output/weights/ludo/same/ludo-v2.ckpt37000 ---\n",
      "INFO:tensorflow:Restoring parameters from output/weights/ludo/same/ludo-v2.ckpt37000\n",
      "output/weights/ludo/same/ludo-v2.ckpt38000 ---\n",
      "INFO:tensorflow:Restoring parameters from output/weights/ludo/same/ludo-v2.ckpt38000\n",
      "output/weights/ludo/same/ludo-v2.ckpt39000 ---\n",
      "INFO:tensorflow:Restoring parameters from output/weights/ludo/same/ludo-v2.ckpt39000\n",
      "output/weights/ludo/same/ludo-v2.ckpt40000 ---\n",
      "INFO:tensorflow:Restoring parameters from output/weights/ludo/same/ludo-v2.ckpt40000\n",
      "output/weights/ludo/same/ludo-v2.ckpt41000 ---\n",
      "INFO:tensorflow:Restoring parameters from output/weights/ludo/same/ludo-v2.ckpt41000\n",
      "output/weights/ludo/same/ludo-v2.ckpt42000 ---\n",
      "INFO:tensorflow:Restoring parameters from output/weights/ludo/same/ludo-v2.ckpt42000\n",
      "output/weights/ludo/same/ludo-v2.ckpt43000 ---\n",
      "INFO:tensorflow:Restoring parameters from output/weights/ludo/same/ludo-v2.ckpt43000\n",
      "output/weights/ludo/same/ludo-v2.ckpt44000 ---\n",
      "INFO:tensorflow:Restoring parameters from output/weights/ludo/same/ludo-v2.ckpt44000\n",
      "output/weights/ludo/same/ludo-v2.ckpt45000 ---\n",
      "INFO:tensorflow:Restoring parameters from output/weights/ludo/same/ludo-v2.ckpt45000\n",
      "output/weights/ludo/same/ludo-v2.ckpt46000 ---\n",
      "INFO:tensorflow:Restoring parameters from output/weights/ludo/same/ludo-v2.ckpt46000\n",
      "output/weights/ludo/same/ludo-v2.ckpt47000 ---\n",
      "INFO:tensorflow:Restoring parameters from output/weights/ludo/same/ludo-v2.ckpt47000\n",
      "output/weights/ludo/same/ludo-v2.ckpt48000 ---\n",
      "INFO:tensorflow:Restoring parameters from output/weights/ludo/same/ludo-v2.ckpt48000\n",
      "output/weights/ludo/same/ludo-v2.ckpt49000 ---\n",
      "INFO:tensorflow:Restoring parameters from output/weights/ludo/same/ludo-v2.ckpt49000\n",
      "output/weights/ludo/same/ludo-v2.ckpt50000 ---\n",
      "INFO:tensorflow:Restoring parameters from output/weights/ludo/same/ludo-v2.ckpt50000\n",
      "-----------reverse--------------\n",
      "output/weights/ludo/reverse/ludo-v2.ckpt50000 ---\n",
      "INFO:tensorflow:Restoring parameters from output/weights/ludo/reverse/ludo-v2.ckpt50000\n",
      "output/weights/ludo/reverse/ludo-v2.ckpt1000 ---\n",
      "INFO:tensorflow:Restoring parameters from output/weights/ludo/reverse/ludo-v2.ckpt1000\n",
      "output/weights/ludo/reverse/ludo-v2.ckpt2000 ---\n",
      "INFO:tensorflow:Restoring parameters from output/weights/ludo/reverse/ludo-v2.ckpt2000\n",
      "output/weights/ludo/reverse/ludo-v2.ckpt3000 ---\n",
      "INFO:tensorflow:Restoring parameters from output/weights/ludo/reverse/ludo-v2.ckpt3000\n",
      "output/weights/ludo/reverse/ludo-v2.ckpt4000 ---\n",
      "INFO:tensorflow:Restoring parameters from output/weights/ludo/reverse/ludo-v2.ckpt4000\n",
      "output/weights/ludo/reverse/ludo-v2.ckpt5000 ---\n",
      "INFO:tensorflow:Restoring parameters from output/weights/ludo/reverse/ludo-v2.ckpt5000\n",
      "output/weights/ludo/reverse/ludo-v2.ckpt6000 ---\n",
      "INFO:tensorflow:Restoring parameters from output/weights/ludo/reverse/ludo-v2.ckpt6000\n",
      "output/weights/ludo/reverse/ludo-v2.ckpt7000 ---\n",
      "INFO:tensorflow:Restoring parameters from output/weights/ludo/reverse/ludo-v2.ckpt7000\n"
     ]
    },
    {
     "name": "stdout",
     "output_type": "stream",
     "text": [
      "output/weights/ludo/reverse/ludo-v2.ckpt8000 ---\n",
      "INFO:tensorflow:Restoring parameters from output/weights/ludo/reverse/ludo-v2.ckpt8000\n",
      "output/weights/ludo/reverse/ludo-v2.ckpt9000 ---\n",
      "INFO:tensorflow:Restoring parameters from output/weights/ludo/reverse/ludo-v2.ckpt9000\n",
      "output/weights/ludo/reverse/ludo-v2.ckpt10000 ---\n",
      "INFO:tensorflow:Restoring parameters from output/weights/ludo/reverse/ludo-v2.ckpt10000\n",
      "output/weights/ludo/reverse/ludo-v2.ckpt11000 ---\n",
      "INFO:tensorflow:Restoring parameters from output/weights/ludo/reverse/ludo-v2.ckpt11000\n",
      "output/weights/ludo/reverse/ludo-v2.ckpt12000 ---\n",
      "INFO:tensorflow:Restoring parameters from output/weights/ludo/reverse/ludo-v2.ckpt12000\n",
      "output/weights/ludo/reverse/ludo-v2.ckpt13000 ---\n",
      "INFO:tensorflow:Restoring parameters from output/weights/ludo/reverse/ludo-v2.ckpt13000\n",
      "output/weights/ludo/reverse/ludo-v2.ckpt14000 ---\n",
      "INFO:tensorflow:Restoring parameters from output/weights/ludo/reverse/ludo-v2.ckpt14000\n",
      "output/weights/ludo/reverse/ludo-v2.ckpt15000 ---\n",
      "INFO:tensorflow:Restoring parameters from output/weights/ludo/reverse/ludo-v2.ckpt15000\n",
      "output/weights/ludo/reverse/ludo-v2.ckpt16000 ---\n",
      "INFO:tensorflow:Restoring parameters from output/weights/ludo/reverse/ludo-v2.ckpt16000\n",
      "output/weights/ludo/reverse/ludo-v2.ckpt17000 ---\n",
      "INFO:tensorflow:Restoring parameters from output/weights/ludo/reverse/ludo-v2.ckpt17000\n",
      "output/weights/ludo/reverse/ludo-v2.ckpt18000 ---\n",
      "INFO:tensorflow:Restoring parameters from output/weights/ludo/reverse/ludo-v2.ckpt18000\n",
      "output/weights/ludo/reverse/ludo-v2.ckpt19000 ---\n",
      "INFO:tensorflow:Restoring parameters from output/weights/ludo/reverse/ludo-v2.ckpt19000\n",
      "output/weights/ludo/reverse/ludo-v2.ckpt20000 ---\n",
      "INFO:tensorflow:Restoring parameters from output/weights/ludo/reverse/ludo-v2.ckpt20000\n",
      "output/weights/ludo/reverse/ludo-v2.ckpt21000 ---\n",
      "INFO:tensorflow:Restoring parameters from output/weights/ludo/reverse/ludo-v2.ckpt21000\n",
      "output/weights/ludo/reverse/ludo-v2.ckpt22000 ---\n",
      "INFO:tensorflow:Restoring parameters from output/weights/ludo/reverse/ludo-v2.ckpt22000\n",
      "output/weights/ludo/reverse/ludo-v2.ckpt23000 ---\n",
      "INFO:tensorflow:Restoring parameters from output/weights/ludo/reverse/ludo-v2.ckpt23000\n",
      "output/weights/ludo/reverse/ludo-v2.ckpt24000 ---\n",
      "INFO:tensorflow:Restoring parameters from output/weights/ludo/reverse/ludo-v2.ckpt24000\n",
      "output/weights/ludo/reverse/ludo-v2.ckpt25000 ---\n",
      "INFO:tensorflow:Restoring parameters from output/weights/ludo/reverse/ludo-v2.ckpt25000\n",
      "output/weights/ludo/reverse/ludo-v2.ckpt26000 ---\n",
      "INFO:tensorflow:Restoring parameters from output/weights/ludo/reverse/ludo-v2.ckpt26000\n",
      "output/weights/ludo/reverse/ludo-v2.ckpt27000 ---\n",
      "INFO:tensorflow:Restoring parameters from output/weights/ludo/reverse/ludo-v2.ckpt27000\n",
      "output/weights/ludo/reverse/ludo-v2.ckpt28000 ---\n",
      "INFO:tensorflow:Restoring parameters from output/weights/ludo/reverse/ludo-v2.ckpt28000\n",
      "output/weights/ludo/reverse/ludo-v2.ckpt29000 ---\n",
      "INFO:tensorflow:Restoring parameters from output/weights/ludo/reverse/ludo-v2.ckpt29000\n",
      "output/weights/ludo/reverse/ludo-v2.ckpt30000 ---\n",
      "INFO:tensorflow:Restoring parameters from output/weights/ludo/reverse/ludo-v2.ckpt30000\n",
      "output/weights/ludo/reverse/ludo-v2.ckpt31000 ---\n",
      "INFO:tensorflow:Restoring parameters from output/weights/ludo/reverse/ludo-v2.ckpt31000\n",
      "output/weights/ludo/reverse/ludo-v2.ckpt32000 ---\n",
      "INFO:tensorflow:Restoring parameters from output/weights/ludo/reverse/ludo-v2.ckpt32000\n",
      "output/weights/ludo/reverse/ludo-v2.ckpt33000 ---\n",
      "INFO:tensorflow:Restoring parameters from output/weights/ludo/reverse/ludo-v2.ckpt33000\n",
      "output/weights/ludo/reverse/ludo-v2.ckpt34000 ---\n",
      "INFO:tensorflow:Restoring parameters from output/weights/ludo/reverse/ludo-v2.ckpt34000\n",
      "output/weights/ludo/reverse/ludo-v2.ckpt35000 ---\n",
      "INFO:tensorflow:Restoring parameters from output/weights/ludo/reverse/ludo-v2.ckpt35000\n",
      "output/weights/ludo/reverse/ludo-v2.ckpt36000 ---\n",
      "INFO:tensorflow:Restoring parameters from output/weights/ludo/reverse/ludo-v2.ckpt36000\n",
      "output/weights/ludo/reverse/ludo-v2.ckpt37000 ---\n",
      "INFO:tensorflow:Restoring parameters from output/weights/ludo/reverse/ludo-v2.ckpt37000\n",
      "output/weights/ludo/reverse/ludo-v2.ckpt38000 ---\n",
      "INFO:tensorflow:Restoring parameters from output/weights/ludo/reverse/ludo-v2.ckpt38000\n",
      "output/weights/ludo/reverse/ludo-v2.ckpt39000 ---\n",
      "INFO:tensorflow:Restoring parameters from output/weights/ludo/reverse/ludo-v2.ckpt39000\n",
      "output/weights/ludo/reverse/ludo-v2.ckpt40000 ---\n",
      "INFO:tensorflow:Restoring parameters from output/weights/ludo/reverse/ludo-v2.ckpt40000\n",
      "output/weights/ludo/reverse/ludo-v2.ckpt41000 ---\n",
      "INFO:tensorflow:Restoring parameters from output/weights/ludo/reverse/ludo-v2.ckpt41000\n",
      "output/weights/ludo/reverse/ludo-v2.ckpt42000 ---\n",
      "INFO:tensorflow:Restoring parameters from output/weights/ludo/reverse/ludo-v2.ckpt42000\n",
      "output/weights/ludo/reverse/ludo-v2.ckpt43000 ---\n",
      "INFO:tensorflow:Restoring parameters from output/weights/ludo/reverse/ludo-v2.ckpt43000\n",
      "output/weights/ludo/reverse/ludo-v2.ckpt44000 ---\n",
      "INFO:tensorflow:Restoring parameters from output/weights/ludo/reverse/ludo-v2.ckpt44000\n",
      "output/weights/ludo/reverse/ludo-v2.ckpt45000 ---\n",
      "INFO:tensorflow:Restoring parameters from output/weights/ludo/reverse/ludo-v2.ckpt45000\n",
      "output/weights/ludo/reverse/ludo-v2.ckpt46000 ---\n",
      "INFO:tensorflow:Restoring parameters from output/weights/ludo/reverse/ludo-v2.ckpt46000\n",
      "output/weights/ludo/reverse/ludo-v2.ckpt47000 ---\n",
      "INFO:tensorflow:Restoring parameters from output/weights/ludo/reverse/ludo-v2.ckpt47000\n",
      "output/weights/ludo/reverse/ludo-v2.ckpt48000 ---\n",
      "INFO:tensorflow:Restoring parameters from output/weights/ludo/reverse/ludo-v2.ckpt48000\n",
      "output/weights/ludo/reverse/ludo-v2.ckpt49000 ---\n",
      "INFO:tensorflow:Restoring parameters from output/weights/ludo/reverse/ludo-v2.ckpt49000\n",
      "output/weights/ludo/reverse/ludo-v2.ckpt50000 ---\n",
      "INFO:tensorflow:Restoring parameters from output/weights/ludo/reverse/ludo-v2.ckpt50000\n",
      "-----------monte--------------\n",
      "output/weights/ludo/monte/ludo-v2.ckpt50000 ---\n",
      "INFO:tensorflow:Restoring parameters from output/weights/ludo/monte/ludo-v2.ckpt50000\n",
      "output/weights/ludo/monte/ludo-v2.ckpt1000 ---\n",
      "INFO:tensorflow:Restoring parameters from output/weights/ludo/monte/ludo-v2.ckpt1000\n",
      "output/weights/ludo/monte/ludo-v2.ckpt2000 ---\n",
      "INFO:tensorflow:Restoring parameters from output/weights/ludo/monte/ludo-v2.ckpt2000\n",
      "output/weights/ludo/monte/ludo-v2.ckpt3000 ---\n",
      "INFO:tensorflow:Restoring parameters from output/weights/ludo/monte/ludo-v2.ckpt3000\n",
      "output/weights/ludo/monte/ludo-v2.ckpt4000 ---\n",
      "INFO:tensorflow:Restoring parameters from output/weights/ludo/monte/ludo-v2.ckpt4000\n",
      "output/weights/ludo/monte/ludo-v2.ckpt5000 ---\n",
      "INFO:tensorflow:Restoring parameters from output/weights/ludo/monte/ludo-v2.ckpt5000\n",
      "output/weights/ludo/monte/ludo-v2.ckpt6000 ---\n",
      "INFO:tensorflow:Restoring parameters from output/weights/ludo/monte/ludo-v2.ckpt6000\n",
      "output/weights/ludo/monte/ludo-v2.ckpt7000 ---\n",
      "INFO:tensorflow:Restoring parameters from output/weights/ludo/monte/ludo-v2.ckpt7000\n",
      "output/weights/ludo/monte/ludo-v2.ckpt8000 ---\n",
      "INFO:tensorflow:Restoring parameters from output/weights/ludo/monte/ludo-v2.ckpt8000\n",
      "output/weights/ludo/monte/ludo-v2.ckpt9000 ---\n",
      "INFO:tensorflow:Restoring parameters from output/weights/ludo/monte/ludo-v2.ckpt9000\n",
      "output/weights/ludo/monte/ludo-v2.ckpt10000 ---\n",
      "INFO:tensorflow:Restoring parameters from output/weights/ludo/monte/ludo-v2.ckpt10000\n",
      "output/weights/ludo/monte/ludo-v2.ckpt11000 ---\n",
      "INFO:tensorflow:Restoring parameters from output/weights/ludo/monte/ludo-v2.ckpt11000\n",
      "output/weights/ludo/monte/ludo-v2.ckpt12000 ---\n",
      "INFO:tensorflow:Restoring parameters from output/weights/ludo/monte/ludo-v2.ckpt12000\n",
      "output/weights/ludo/monte/ludo-v2.ckpt13000 ---\n",
      "INFO:tensorflow:Restoring parameters from output/weights/ludo/monte/ludo-v2.ckpt13000\n",
      "output/weights/ludo/monte/ludo-v2.ckpt14000 ---\n",
      "INFO:tensorflow:Restoring parameters from output/weights/ludo/monte/ludo-v2.ckpt14000\n",
      "output/weights/ludo/monte/ludo-v2.ckpt15000 ---\n",
      "INFO:tensorflow:Restoring parameters from output/weights/ludo/monte/ludo-v2.ckpt15000\n",
      "output/weights/ludo/monte/ludo-v2.ckpt16000 ---\n",
      "INFO:tensorflow:Restoring parameters from output/weights/ludo/monte/ludo-v2.ckpt16000\n"
     ]
    },
    {
     "name": "stdout",
     "output_type": "stream",
     "text": [
      "output/weights/ludo/monte/ludo-v2.ckpt17000 ---\n",
      "INFO:tensorflow:Restoring parameters from output/weights/ludo/monte/ludo-v2.ckpt17000\n",
      "output/weights/ludo/monte/ludo-v2.ckpt18000 ---\n",
      "INFO:tensorflow:Restoring parameters from output/weights/ludo/monte/ludo-v2.ckpt18000\n",
      "output/weights/ludo/monte/ludo-v2.ckpt19000 ---\n",
      "INFO:tensorflow:Restoring parameters from output/weights/ludo/monte/ludo-v2.ckpt19000\n",
      "output/weights/ludo/monte/ludo-v2.ckpt20000 ---\n",
      "INFO:tensorflow:Restoring parameters from output/weights/ludo/monte/ludo-v2.ckpt20000\n",
      "output/weights/ludo/monte/ludo-v2.ckpt21000 ---\n",
      "INFO:tensorflow:Restoring parameters from output/weights/ludo/monte/ludo-v2.ckpt21000\n",
      "output/weights/ludo/monte/ludo-v2.ckpt22000 ---\n",
      "INFO:tensorflow:Restoring parameters from output/weights/ludo/monte/ludo-v2.ckpt22000\n",
      "output/weights/ludo/monte/ludo-v2.ckpt23000 ---\n",
      "INFO:tensorflow:Restoring parameters from output/weights/ludo/monte/ludo-v2.ckpt23000\n",
      "output/weights/ludo/monte/ludo-v2.ckpt24000 ---\n",
      "INFO:tensorflow:Restoring parameters from output/weights/ludo/monte/ludo-v2.ckpt24000\n",
      "output/weights/ludo/monte/ludo-v2.ckpt25000 ---\n",
      "INFO:tensorflow:Restoring parameters from output/weights/ludo/monte/ludo-v2.ckpt25000\n",
      "output/weights/ludo/monte/ludo-v2.ckpt26000 ---\n",
      "INFO:tensorflow:Restoring parameters from output/weights/ludo/monte/ludo-v2.ckpt26000\n",
      "output/weights/ludo/monte/ludo-v2.ckpt27000 ---\n",
      "INFO:tensorflow:Restoring parameters from output/weights/ludo/monte/ludo-v2.ckpt27000\n",
      "output/weights/ludo/monte/ludo-v2.ckpt28000 ---\n",
      "INFO:tensorflow:Restoring parameters from output/weights/ludo/monte/ludo-v2.ckpt28000\n",
      "output/weights/ludo/monte/ludo-v2.ckpt29000 ---\n",
      "INFO:tensorflow:Restoring parameters from output/weights/ludo/monte/ludo-v2.ckpt29000\n",
      "output/weights/ludo/monte/ludo-v2.ckpt30000 ---\n",
      "INFO:tensorflow:Restoring parameters from output/weights/ludo/monte/ludo-v2.ckpt30000\n",
      "output/weights/ludo/monte/ludo-v2.ckpt31000 ---\n",
      "INFO:tensorflow:Restoring parameters from output/weights/ludo/monte/ludo-v2.ckpt31000\n",
      "output/weights/ludo/monte/ludo-v2.ckpt32000 ---\n",
      "INFO:tensorflow:Restoring parameters from output/weights/ludo/monte/ludo-v2.ckpt32000\n",
      "output/weights/ludo/monte/ludo-v2.ckpt33000 ---\n",
      "INFO:tensorflow:Restoring parameters from output/weights/ludo/monte/ludo-v2.ckpt33000\n",
      "output/weights/ludo/monte/ludo-v2.ckpt34000 ---\n",
      "INFO:tensorflow:Restoring parameters from output/weights/ludo/monte/ludo-v2.ckpt34000\n",
      "output/weights/ludo/monte/ludo-v2.ckpt35000 ---\n",
      "INFO:tensorflow:Restoring parameters from output/weights/ludo/monte/ludo-v2.ckpt35000\n",
      "output/weights/ludo/monte/ludo-v2.ckpt36000 ---\n",
      "INFO:tensorflow:Restoring parameters from output/weights/ludo/monte/ludo-v2.ckpt36000\n",
      "output/weights/ludo/monte/ludo-v2.ckpt37000 ---\n",
      "INFO:tensorflow:Restoring parameters from output/weights/ludo/monte/ludo-v2.ckpt37000\n",
      "output/weights/ludo/monte/ludo-v2.ckpt38000 ---\n",
      "INFO:tensorflow:Restoring parameters from output/weights/ludo/monte/ludo-v2.ckpt38000\n",
      "output/weights/ludo/monte/ludo-v2.ckpt39000 ---\n",
      "INFO:tensorflow:Restoring parameters from output/weights/ludo/monte/ludo-v2.ckpt39000\n",
      "output/weights/ludo/monte/ludo-v2.ckpt40000 ---\n",
      "INFO:tensorflow:Restoring parameters from output/weights/ludo/monte/ludo-v2.ckpt40000\n",
      "output/weights/ludo/monte/ludo-v2.ckpt41000 ---\n",
      "INFO:tensorflow:Restoring parameters from output/weights/ludo/monte/ludo-v2.ckpt41000\n",
      "output/weights/ludo/monte/ludo-v2.ckpt42000 ---\n",
      "INFO:tensorflow:Restoring parameters from output/weights/ludo/monte/ludo-v2.ckpt42000\n",
      "output/weights/ludo/monte/ludo-v2.ckpt43000 ---\n",
      "INFO:tensorflow:Restoring parameters from output/weights/ludo/monte/ludo-v2.ckpt43000\n",
      "output/weights/ludo/monte/ludo-v2.ckpt44000 ---\n",
      "INFO:tensorflow:Restoring parameters from output/weights/ludo/monte/ludo-v2.ckpt44000\n",
      "output/weights/ludo/monte/ludo-v2.ckpt45000 ---\n",
      "INFO:tensorflow:Restoring parameters from output/weights/ludo/monte/ludo-v2.ckpt45000\n",
      "output/weights/ludo/monte/ludo-v2.ckpt46000 ---\n",
      "INFO:tensorflow:Restoring parameters from output/weights/ludo/monte/ludo-v2.ckpt46000\n",
      "output/weights/ludo/monte/ludo-v2.ckpt47000 ---\n",
      "INFO:tensorflow:Restoring parameters from output/weights/ludo/monte/ludo-v2.ckpt47000\n",
      "output/weights/ludo/monte/ludo-v2.ckpt48000 ---\n",
      "INFO:tensorflow:Restoring parameters from output/weights/ludo/monte/ludo-v2.ckpt48000\n",
      "output/weights/ludo/monte/ludo-v2.ckpt49000 ---\n",
      "INFO:tensorflow:Restoring parameters from output/weights/ludo/monte/ludo-v2.ckpt49000\n",
      "output/weights/ludo/monte/ludo-v2.ckpt50000 ---\n",
      "INFO:tensorflow:Restoring parameters from output/weights/ludo/monte/ludo-v2.ckpt50000\n"
     ]
    }
   ],
   "source": [
    "path = \"output/weights/ludo/{}/checkpoint\"\n",
    "modelPath = \"output/weights/ludo/{}/{}\"\n",
    "player_num = 1\n",
    "randomMovesDict = defaultdict(dict)\n",
    "for i in [\"same\",\"reverse\",\"monte\"]:\n",
    "    print(\"-----------{}--------------\".format(i))\n",
    "    new_path = path.format(i)\n",
    "    new_modelPath = modelPath.format(i,\"{}\")\n",
    "    with open(new_path) as checkpoints:\n",
    "        for cp in checkpoints:\n",
    "            modelName = cp.split(\":\")[1]\n",
    "            modelName = modelName.strip(' \"\\'\\t\\r\\n')\n",
    "            newModelPath = new_modelPath.format(modelName)\n",
    "            episodeNum = getEpisodeNum(modelName)\n",
    "            randomMovesDict[i][episodeNum] = plot.winRate(newModelPath,10,player_num)"
   ]
  },
  {
   "cell_type": "code",
   "execution_count": 6,
   "metadata": {},
   "outputs": [
    {
     "name": "stderr",
     "output_type": "stream",
     "text": [
      "/home/kartik/.conda/envs/ve2/lib/python3.6/site-packages/ipykernel_launcher.py:13: UserWarning: Matplotlib is currently using module://ipykernel.pylab.backend_inline, which is a non-GUI backend, so cannot show the figure.\n",
      "  del sys.path[0]\n"
     ]
    },
    {
     "data": {
      "image/png": "[encoded data removed]",
      "text/plain": [
       "<Figure size 432x288 with 3 Axes>"
      ]
     },
     "metadata": {
      "needs_background": "light"
     },
     "output_type": "display_data"
    }
   ],
   "source": [
    "fig,ax = plt.subplots(nrows=3,ncols=1)\n",
    "count = 0\n",
    "for _,d in randomMovesDict.items():\n",
    "    x = np.array([[1,1]])\n",
    "    for keys,values in d.items():\n",
    "        values = np.array(values[1])\n",
    "        ratio = sum(values[:,0])/sum(values[:,1])\n",
    "        x = np.vstack((x,np.array([int(keys),ratio])))\n",
    "    x = x[x[:,0].argsort()]\n",
    "    x = np.delete(x,0,axis=0)\n",
    "    ax[count].plot(x[:,0],x[:,1])\n",
    "    count += 1\n",
    "fig.show()"
   ]
  },
  {
   "cell_type": "code",
   "execution_count": 13,
   "metadata": {},
   "outputs": [],
   "source": [
    "plt.show()"
   ]
  },
  {
   "cell_type": "code",
   "execution_count": 7,
   "metadata": {},
   "outputs": [
    {
     "data": {
      "image/png": "[encoded data removed]",
      "text/plain": [
       "<Figure size 432x288 with 3 Axes>"
      ]
     },
     "metadata": {
      "needs_background": "light"
     },
     "output_type": "display_data"
    }
   ],
   "source": [
    "ax = None\n",
    "fig,ax = plt.subplots(nrows=3,ncols=1)\n",
    "count = 0\n",
    "for _,d in randomMovesDict.items():\n",
    "    x = np.array([[1,1]])\n",
    "    for keys,values in d.items():\n",
    "        values = values[0]\n",
    "        #print(values[1])\n",
    "        x = np.vstack((x,np.array([int(keys),values[player_num]])))\n",
    "    x = x[x[:,0].argsort()]\n",
    "    x = np.delete(x,0,axis=0)\n",
    "    ax[count].plot(x[:,0],x[:,1])\n",
    "    count += 1"
   ]
  },
  {
   "cell_type": "code",
   "execution_count": 14,
   "metadata": {},
   "outputs": [
    {
     "ename": "AttributeError",
     "evalue": "'numpy.ndarray' object has no attribute 'get'",
     "output_type": "error",
     "traceback": [
      "\u001b[0;31m---------------------------------------------------------------------------\u001b[0m",
      "\u001b[0;31mAttributeError\u001b[0m                            Traceback (most recent call last)",
      "\u001b[0;32m<ipython-input-14-7ff7b9c1806d>\u001b[0m in \u001b[0;36m<module>\u001b[0;34m()\u001b[0m\n\u001b[0;32m----> 1\u001b[0;31m \u001b[0mvalues\u001b[0m\u001b[0;34m.\u001b[0m\u001b[0mget\u001b[0m\u001b[0;34m(\u001b[0m\u001b[0;34m)\u001b[0m\u001b[0;34m\u001b[0m\u001b[0;34m\u001b[0m\u001b[0m\n\u001b[0m",
      "\u001b[0;31mAttributeError\u001b[0m: 'numpy.ndarray' object has no attribute 'get'"
     ]
    }
   ],
   "source": [
    "values.get()"
   ]
  },
  {
   "cell_type": "code",
   "execution_count": null,
   "metadata": {},
   "outputs": [],
   "source": []
  }
 ],
 "metadata": {
  "kernelspec": {
   "display_name": "Python 3",
   "language": "python",
   "name": "python3"
  },
  "language_info": {
   "codemirror_mode": {
    "name": "ipython",
    "version": 3
   },
   "file_extension": ".py",
   "mimetype": "text/x-python",
   "name": "python",
   "nbconvert_exporter": "python",
   "pygments_lexer": "ipython3",
   "version": "3.6.12"
  }
 },
 "nbformat": 4,
 "nbformat_minor": 2
}
