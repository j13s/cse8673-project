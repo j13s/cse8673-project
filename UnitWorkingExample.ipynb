{
 "cells": [
  {
   "cell_type": "code",
   "execution_count": 23,
   "metadata": {},
   "outputs": [],
   "source": [
    "!python generate_ludo_gameplay_sequence.py"
   ]
  },
  {
   "cell_type": "code",
   "execution_count": 34,
   "metadata": {},
   "outputs": [],
   "source": [
    "from glob import glob\n",
    "import numpy as np\n",
    "import tensorflow as tf"
   ]
  },
  {
   "cell_type": "code",
   "execution_count": 35,
   "metadata": {},
   "outputs": [],
   "source": [
    "for i in glob(\"ludoHistory/*.npy\"):\n",
    "    game = np.load(i,allow_pickle=True)\n",
    "    break"
   ]
  },
  {
   "cell_type": "code",
   "execution_count": 36,
   "metadata": {},
   "outputs": [],
   "source": [
    "#defining the model\n",
    "model = tf.keras.models.Sequential([\n",
    "  tf.keras.layers.Flatten(input_shape=(16,)),\n",
    "  tf.keras.layers.Dense(32, activation='relu'),\n",
    "  tf.keras.layers.Dropout(0.2),\n",
    "  tf.keras.layers.Dense(1)\n",
    "])\n",
    "loss_fn = tf.keras.losses.MeanSquaredError()\n",
    "model.compile(optimizer='adam',\n",
    "              loss=loss_fn,\n",
    "              metrics=['accuracy'])"
   ]
  },
  {
   "cell_type": "code",
   "execution_count": 37,
   "metadata": {},
   "outputs": [],
   "source": [
    "#converting the input from 4X4 to 1X16\n",
    "#Right now it is only taking the position of the pawns\n",
    "#later we will update this to take current dice value\n",
    "def netInput(states):\n",
    "    netInput = np.array((np.zeros((1,16))))\n",
    "    for state in states:\n",
    "        temp = state[0][0]\n",
    "        for j in state[0][1:]:\n",
    "            temp = np.concatenate((temp,j), axis=0)\n",
    "        netInput = np.vstack((netInput,temp))\n",
    "    return netInput"
   ]
  },
  {
   "cell_type": "code",
   "execution_count": 38,
   "metadata": {},
   "outputs": [],
   "source": [
    "netInputs = netInput(game)"
   ]
  },
  {
   "cell_type": "code",
   "execution_count": 39,
   "metadata": {},
   "outputs": [
    {
     "name": "stdout",
     "output_type": "stream",
     "text": [
      "Train on 5 samples\n",
      "5/5 [==============================] - 0s 40ms/sample - loss: 239.8777 - accuracy: 0.0000e+00\n",
      "Train on 5 samples\n",
      "5/5 [==============================] - 0s 1ms/sample - loss: 44.2223 - accuracy: 0.0000e+00\n",
      "Train on 5 samples\n",
      "5/5 [==============================] - 0s 1ms/sample - loss: 321.7618 - accuracy: 0.0000e+00\n",
      "Train on 5 samples\n",
      "5/5 [==============================] - 0s 1ms/sample - loss: 290.3954 - accuracy: 0.0000e+00\n",
      "Train on 5 samples\n",
      "5/5 [==============================] - 0s 1ms/sample - loss: 65.2549 - accuracy: 0.0000e+00\n",
      "Train on 5 samples\n",
      "5/5 [==============================] - 0s 1ms/sample - loss: 175.9217 - accuracy: 0.0000e+00\n",
      "Train on 5 samples\n",
      "5/5 [==============================] - 0s 1ms/sample - loss: 99.9653 - accuracy: 0.0000e+00\n",
      "Train on 5 samples\n",
      "5/5 [==============================] - 0s 2ms/sample - loss: 123.3897 - accuracy: 0.0000e+00\n",
      "Train on 5 samples\n",
      "5/5 [==============================] - 0s 2ms/sample - loss: 14.1407 - accuracy: 0.0000e+00\n",
      "Train on 5 samples\n",
      "5/5 [==============================] - 0s 2ms/sample - loss: 50.1770 - accuracy: 0.0000e+00\n"
     ]
    }
   ],
   "source": [
    "target = model\n",
    "for _ in range(10):\n",
    "    #selecting n(5) random inputs\n",
    "    randIdx = np.random.randint(netInputs.shape[0],size=5)\n",
    "    inputs = netInputs[randIdx]\n",
    "    #predicting the input with the target netowrk\n",
    "    #this values is not right have to update this for final model\n",
    "    y = target.predict(inputs)\n",
    "    #training the model \n",
    "    model.fit(inputs,y,epochs=1)\n",
    "    #updating the target network after training on n samples\n",
    "    target = model"
   ]
  },
  {
   "cell_type": "code",
   "execution_count": null,
   "metadata": {},
   "outputs": [],
   "source": []
  }
 ],
 "metadata": {
  "kernelspec": {
   "display_name": "Python 3",
   "language": "python",
   "name": "python3"
  },
  "language_info": {
   "codemirror_mode": {
    "name": "ipython",
    "version": 3
   },
   "file_extension": ".py",
   "mimetype": "text/x-python",
   "name": "python",
   "nbconvert_exporter": "python",
   "pygments_lexer": "ipython3",
   "version": "3.7.5"
  }
 },
 "nbformat": 4,
 "nbformat_minor": 2
}
